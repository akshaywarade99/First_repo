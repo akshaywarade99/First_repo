{
 "cells": [
  {
   "cell_type": "code",
   "execution_count": 1,
   "id": "3f134b71",
   "metadata": {},
   "outputs": [],
   "source": [
    "import pandas as pd \n",
    "import numpy as np"
   ]
  },
  {
   "cell_type": "code",
   "execution_count": 1,
   "id": "d7c6c859",
   "metadata": {},
   "outputs": [
    {
     "name": "stdout",
     "output_type": "stream",
     "text": [
      "Hi\n"
     ]
    }
   ],
   "source": [
    "print('Hi')"
   ]
  },
  {
   "cell_type": "code",
   "execution_count": 6,
   "id": "f4900f97",
   "metadata": {},
   "outputs": [
    {
     "name": "stdout",
     "output_type": "stream",
     "text": [
      "undo_commited\n"
     ]
    }
   ],
   "source": [
    "print('undo_commited')"
   ]
  },
  {
   "cell_type": "code",
   "execution_count": 12,
   "id": "1b704aea",
   "metadata": {},
   "outputs": [
    {
     "name": "stdout",
     "output_type": "stream",
     "text": [
      "main branch chang\n"
     ]
    }
   ],
   "source": [
    "print('main branch chang')"
   ]
  },
  {
   "cell_type": "code",
   "execution_count": null,
   "id": "23f8279d",
   "metadata": {},
   "outputs": [],
   "source": []
  }
 ],
 "metadata": {
  "kernelspec": {
   "display_name": "Python 3 (ipykernel)",
   "language": "python",
   "name": "python3"
  },
  "language_info": {
   "codemirror_mode": {
    "name": "ipython",
    "version": 3
   },
   "file_extension": ".py",
   "mimetype": "text/x-python",
   "name": "python",
   "nbconvert_exporter": "python",
   "pygments_lexer": "ipython3",
   "version": "3.9.13"
  }
 },
 "nbformat": 4,
 "nbformat_minor": 5
}
